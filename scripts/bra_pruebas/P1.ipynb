{
 "cells": [
  {
   "cell_type": "code",
   "execution_count": 2,
   "id": "89340076",
   "metadata": {},
   "outputs": [
    {
     "name": "stderr",
     "output_type": "stream",
     "text": [
      "Matplotlib is building the font cache; this may take a moment.\n"
     ]
    },
    {
     "ename": "NameError",
     "evalue": "name 'data' is not defined",
     "output_type": "error",
     "traceback": [
      "\u001b[0;31m---------------------------------------------------------------------------\u001b[0m",
      "\u001b[0;31mNameError\u001b[0m                                 Traceback (most recent call last)",
      "Cell \u001b[0;32mIn[2], line 18\u001b[0m\n\u001b[1;32m     16\u001b[0m color_hex\u001b[39m=\u001b[39m\u001b[39m'\u001b[39m\u001b[39m#006400\u001b[39m\u001b[39m'\u001b[39m\u001b[39m# es la representacion del color verde oscuro en valor numeral\u001b[39;00m\n\u001b[1;32m     17\u001b[0m plt\u001b[39m.\u001b[39mtitle(\u001b[39m\"\u001b[39m\u001b[39mSimple Plot\u001b[39m\u001b[39m\"\u001b[39m, color\u001b[39m=\u001b[39mcolor_hex, fontsize\u001b[39m=\u001b[39m\u001b[39m16\u001b[39m)\n\u001b[0;32m---> 18\u001b[0m plt\u001b[39m.\u001b[39mplot(data)\n\u001b[1;32m     20\u001b[0m plt\u001b[39m.\u001b[39mshow()\n",
      "\u001b[0;31mNameError\u001b[0m: name 'data' is not defined"
     ]
    },
    {
     "data": {
      "image/png": "[encoded data removed]",
      "text/plain": [
       "<Figure size 640x480 with 1 Axes>"
      ]
     },
     "metadata": {},
     "output_type": "display_data"
    }
   ],
   "source": [
    "import numpy as np\n",
    "import matplotlib.pyplot as plt\n",
    "import matplotlib as mpl\n",
    "from cycler import cycler\n",
    "\n",
    "mpl.rcParams['lines.linewidth'] = 2 #pone el tamaño de las lineas a 2\n",
    "mpl.rcParams['lines.linestyle'] = '--' # crea el patron de lineas '--'puede ser '-.'\n",
    "#colores_lineass='#006400'\n",
    "#mpl.rcParams['lines.color'] = 'green'# Cambiar el color de las líneas a rojo\n",
    "rgb_color = (0, 0.512, 0)\n",
    "mpl.rcParams['lines.color'] = rgb_color\n",
    "rgb_values = [220, 220, 220]             #podemos indicar un color por su representa´cion RGB \n",
    "rgb_tuple = tuple(value/255 for value in rgb_values)#transforma la representación RGB a arg\n",
    "plt.rcParams['axes.facecolor'] = rgb_tuple #cambia el fondo de la grafica\n",
    "#data.set_title(\"Simple Plot\")\n",
    "color_hex='#006400'# es la representacion del color verde oscuro en valor numeral\n",
    "plt.title(\"Simple Plot\", color=color_hex, fontsize=16)\n",
    "plt.plot(data)\n",
    "\n",
    "plt.show()\n"
   ]
  },
  {
   "cell_type": "markdown",
   "id": "3fbbad77",
   "metadata": {},
   "source": [
    "# titulo\n",
    "\n",
    "##  subtitulo\n",
    "asldnasjfajdf"
   ]
  },
  {
   "cell_type": "code",
   "execution_count": 5,
   "id": "6491d4aa",
   "metadata": {},
   "outputs": [
    {
     "name": "stdout",
     "output_type": "stream",
     "text": [
      "hola mundo\n"
     ]
    }
   ],
   "source": [
    "print('hola mundo')"
   ]
  },
  {
   "cell_type": "code",
   "execution_count": null,
   "id": "e0ae9d3b",
   "metadata": {},
   "outputs": [],
   "source": []
  }
 ],
 "metadata": {
  "kernelspec": {
   "display_name": "Python 3 (ipykernel)",
   "language": "python",
   "name": "python3"
  },
  "language_info": {
   "codemirror_mode": {
    "name": "ipython",
    "version": 3
   },
   "file_extension": ".py",
   "mimetype": "text/x-python",
   "name": "python",
   "nbconvert_exporter": "python",
   "pygments_lexer": "ipython3",
   "version": "3.10.6"
  }
 },
 "nbformat": 4,
 "nbformat_minor": 5
}
