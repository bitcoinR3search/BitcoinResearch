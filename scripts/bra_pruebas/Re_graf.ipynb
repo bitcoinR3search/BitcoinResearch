{
 "cells": [
  {
   "cell_type": "code",
   "execution_count": 10,
   "id": "f74cc332",
   "metadata": {
    "scrolled": true
   },
   "outputs": [
    {
     "ename": "ValueError",
     "evalue": "(168, 168, 168) is not a valid value for color",
     "output_type": "error",
     "traceback": [
      "\u001b[1;31m---------------------------------------------------------------------------\u001b[0m",
      "\u001b[1;31mValueError\u001b[0m                                Traceback (most recent call last)",
      "Cell \u001b[1;32mIn[10], line 51\u001b[0m\n\u001b[0;32m     49\u001b[0m ax \u001b[39m=\u001b[39m plt\u001b[39m.\u001b[39mgca()\n\u001b[0;32m     50\u001b[0m \u001b[39m#titulo\u001b[39;00m\n\u001b[1;32m---> 51\u001b[0m plt\u001b[39m.\u001b[39;49mtitle(\u001b[39mr\u001b[39;49m\u001b[39m\"\u001b[39;49m\u001b[39m$\u001b[39;49m\u001b[39m\\\u001b[39;49m\u001b[39mbf\u001b[39;49m\u001b[39m{\u001b[39;49m\u001b[39mBITCOIN:\u001b[39;49m\u001b[39m\\\u001b[39;49m\u001b[39m HISTORIAL\u001b[39;49m\u001b[39m\\\u001b[39;49m\u001b[39m DEL\u001b[39;49m\u001b[39m\\\u001b[39;49m\u001b[39m NÚMERO\u001b[39;49m\u001b[39m\\\u001b[39;49m\u001b[39m DE\u001b[39;49m\u001b[39m\\\u001b[39;49m\u001b[39m TX}$\u001b[39;49m\u001b[39m\"\u001b[39;49m \u001b[39m\"\u001b[39;49m\u001b[39m\\n\u001b[39;49;00m\u001b[39m\"\u001b[39;49m \u001b[39mr\u001b[39;49m\u001b[39m\"\u001b[39;49m\u001b[39m$\u001b[39;49m\u001b[39m\\\u001b[39;49m\u001b[39mit\u001b[39;49m\u001b[39m{\u001b[39;49m\u001b[39mComparación\u001b[39;49m\u001b[39m\\\u001b[39;49m\u001b[39m por\u001b[39;49m\u001b[39m\\\u001b[39;49m\u001b[39m bloque\u001b[39;49m\u001b[39m\\\u001b[39;49m\u001b[39m y\u001b[39;49m\u001b[39m\\\u001b[39;49m\u001b[39m por\u001b[39;49m\u001b[39m\\\u001b[39;49m\u001b[39m acumulado}$\u001b[39;49m\u001b[39m\"\u001b[39;49m,fontsize\u001b[39m=\u001b[39;49m\u001b[39m10\u001b[39;49m,color\u001b[39m=\u001b[39;49mEstilos[\u001b[39m0\u001b[39;49m][\u001b[39m0\u001b[39;49m],fontproperties\u001b[39m=\u001b[39;49mprop)\n\u001b[0;32m     54\u001b[0m \u001b[39m#Color del fondo\u001b[39;00m\n\u001b[0;32m     55\u001b[0m fig\u001b[39m.\u001b[39mpatch\u001b[39m.\u001b[39mset_facecolor(colores[\u001b[39m1\u001b[39m])\n",
      "File \u001b[1;32md:\\proyectos\\BitcoinResearch\\env\\lib\\site-packages\\matplotlib\\pyplot.py:3084\u001b[0m, in \u001b[0;36mtitle\u001b[1;34m(label, fontdict, loc, pad, y, **kwargs)\u001b[0m\n\u001b[0;32m   3082\u001b[0m \u001b[39m@_copy_docstring_and_deprecators\u001b[39m(Axes\u001b[39m.\u001b[39mset_title)\n\u001b[0;32m   3083\u001b[0m \u001b[39mdef\u001b[39;00m \u001b[39mtitle\u001b[39m(label, fontdict\u001b[39m=\u001b[39m\u001b[39mNone\u001b[39;00m, loc\u001b[39m=\u001b[39m\u001b[39mNone\u001b[39;00m, pad\u001b[39m=\u001b[39m\u001b[39mNone\u001b[39;00m, \u001b[39m*\u001b[39m, y\u001b[39m=\u001b[39m\u001b[39mNone\u001b[39;00m, \u001b[39m*\u001b[39m\u001b[39m*\u001b[39mkwargs):\n\u001b[1;32m-> 3084\u001b[0m     \u001b[39mreturn\u001b[39;00m gca()\u001b[39m.\u001b[39mset_title(\n\u001b[0;32m   3085\u001b[0m         label, fontdict\u001b[39m=\u001b[39mfontdict, loc\u001b[39m=\u001b[39mloc, pad\u001b[39m=\u001b[39mpad, y\u001b[39m=\u001b[39my, \u001b[39m*\u001b[39m\u001b[39m*\u001b[39mkwargs)\n",
      "File \u001b[1;32md:\\proyectos\\BitcoinResearch\\env\\lib\\site-packages\\matplotlib\\axes\\_axes.py:180\u001b[0m, in \u001b[0;36mAxes.set_title\u001b[1;34m(self, label, fontdict, loc, pad, y, **kwargs)\u001b[0m\n\u001b[0;32m    178\u001b[0m \u001b[39mif\u001b[39;00m fontdict \u001b[39mis\u001b[39;00m \u001b[39mnot\u001b[39;00m \u001b[39mNone\u001b[39;00m:\n\u001b[0;32m    179\u001b[0m     title\u001b[39m.\u001b[39mupdate(fontdict)\n\u001b[1;32m--> 180\u001b[0m title\u001b[39m.\u001b[39;49m_internal_update(kwargs)\n\u001b[0;32m    181\u001b[0m \u001b[39mreturn\u001b[39;00m title\n",
      "File \u001b[1;32md:\\proyectos\\BitcoinResearch\\env\\lib\\site-packages\\matplotlib\\artist.py:1223\u001b[0m, in \u001b[0;36mArtist._internal_update\u001b[1;34m(self, kwargs)\u001b[0m\n\u001b[0;32m   1216\u001b[0m \u001b[39mdef\u001b[39;00m \u001b[39m_internal_update\u001b[39m(\u001b[39mself\u001b[39m, kwargs):\n\u001b[0;32m   1217\u001b[0m \u001b[39m    \u001b[39m\u001b[39m\"\"\"\u001b[39;00m\n\u001b[0;32m   1218\u001b[0m \u001b[39m    Update artist properties without prenormalizing them, but generating\u001b[39;00m\n\u001b[0;32m   1219\u001b[0m \u001b[39m    errors as if calling `set`.\u001b[39;00m\n\u001b[0;32m   1220\u001b[0m \n\u001b[0;32m   1221\u001b[0m \u001b[39m    The lack of prenormalization is to maintain backcompatibility.\u001b[39;00m\n\u001b[0;32m   1222\u001b[0m \u001b[39m    \"\"\"\u001b[39;00m\n\u001b[1;32m-> 1223\u001b[0m     \u001b[39mreturn\u001b[39;00m \u001b[39mself\u001b[39;49m\u001b[39m.\u001b[39;49m_update_props(\n\u001b[0;32m   1224\u001b[0m         kwargs, \u001b[39m\"\u001b[39;49m\u001b[39m{cls.__name__}\u001b[39;49;00m\u001b[39m.set() got an unexpected keyword argument \u001b[39;49m\u001b[39m\"\u001b[39;49m\n\u001b[0;32m   1225\u001b[0m         \u001b[39m\"\u001b[39;49m\u001b[39m{prop_name!r}\u001b[39;49;00m\u001b[39m\"\u001b[39;49m)\n",
      "File \u001b[1;32md:\\proyectos\\BitcoinResearch\\env\\lib\\site-packages\\matplotlib\\artist.py:1199\u001b[0m, in \u001b[0;36mArtist._update_props\u001b[1;34m(self, props, errfmt)\u001b[0m\n\u001b[0;32m   1196\u001b[0m             \u001b[39mif\u001b[39;00m \u001b[39mnot\u001b[39;00m \u001b[39mcallable\u001b[39m(func):\n\u001b[0;32m   1197\u001b[0m                 \u001b[39mraise\u001b[39;00m \u001b[39mAttributeError\u001b[39;00m(\n\u001b[0;32m   1198\u001b[0m                     errfmt\u001b[39m.\u001b[39mformat(\u001b[39mcls\u001b[39m\u001b[39m=\u001b[39m\u001b[39mtype\u001b[39m(\u001b[39mself\u001b[39m), prop_name\u001b[39m=\u001b[39mk))\n\u001b[1;32m-> 1199\u001b[0m             ret\u001b[39m.\u001b[39mappend(func(v))\n\u001b[0;32m   1200\u001b[0m \u001b[39mif\u001b[39;00m ret:\n\u001b[0;32m   1201\u001b[0m     \u001b[39mself\u001b[39m\u001b[39m.\u001b[39mpchanged()\n",
      "File \u001b[1;32md:\\proyectos\\BitcoinResearch\\env\\lib\\site-packages\\matplotlib\\text.py:996\u001b[0m, in \u001b[0;36mText.set_color\u001b[1;34m(self, color)\u001b[0m\n\u001b[0;32m    993\u001b[0m \u001b[39m# \"auto\" is only supported by axisartist, but we can just let it error\u001b[39;00m\n\u001b[0;32m    994\u001b[0m \u001b[39m# out at draw time for simplicity.\u001b[39;00m\n\u001b[0;32m    995\u001b[0m \u001b[39mif\u001b[39;00m \u001b[39mnot\u001b[39;00m cbook\u001b[39m.\u001b[39m_str_equal(color, \u001b[39m\"\u001b[39m\u001b[39mauto\u001b[39m\u001b[39m\"\u001b[39m):\n\u001b[1;32m--> 996\u001b[0m     mpl\u001b[39m.\u001b[39;49mcolors\u001b[39m.\u001b[39;49m_check_color_like(color\u001b[39m=\u001b[39;49mcolor)\n\u001b[0;32m    997\u001b[0m \u001b[39mself\u001b[39m\u001b[39m.\u001b[39m_color \u001b[39m=\u001b[39m color\n\u001b[0;32m    998\u001b[0m \u001b[39mself\u001b[39m\u001b[39m.\u001b[39mstale \u001b[39m=\u001b[39m \u001b[39mTrue\u001b[39;00m\n",
      "File \u001b[1;32md:\\proyectos\\BitcoinResearch\\env\\lib\\site-packages\\matplotlib\\colors.py:243\u001b[0m, in \u001b[0;36m_check_color_like\u001b[1;34m(**kwargs)\u001b[0m\n\u001b[0;32m    241\u001b[0m \u001b[39mfor\u001b[39;00m k, v \u001b[39min\u001b[39;00m kwargs\u001b[39m.\u001b[39mitems():\n\u001b[0;32m    242\u001b[0m     \u001b[39mif\u001b[39;00m \u001b[39mnot\u001b[39;00m is_color_like(v):\n\u001b[1;32m--> 243\u001b[0m         \u001b[39mraise\u001b[39;00m \u001b[39mValueError\u001b[39;00m(\u001b[39mf\u001b[39m\u001b[39m\"\u001b[39m\u001b[39m{\u001b[39;00mv\u001b[39m!r}\u001b[39;00m\u001b[39m is not a valid value for \u001b[39m\u001b[39m{\u001b[39;00mk\u001b[39m}\u001b[39;00m\u001b[39m\"\u001b[39m)\n",
      "\u001b[1;31mValueError\u001b[0m: (168, 168, 168) is not a valid value for color"
     ]
    },
    {
     "data": {
      "image/png": "[encoded data removed]",
      "text/plain": [
       "<Figure size 640x480 with 1 Axes>"
      ]
     },
     "metadata": {},
     "output_type": "display_data"
    }
   ],
   "source": [
    "#librerias \n",
    "\n",
    "\n",
    "#usar comandos del sistema\n",
    "import os\n",
    "#manejo numerico\n",
    "import numpy as np\n",
    "#graficar\n",
    "import matplotlib.pyplot as plt\n",
    "#libreria manejo de tipografia\n",
    "from matplotlib import font_manager as fm, rcParams\n",
    "\n",
    "#cambiar la typografia\n",
    "fpath = os.path.join(r'MonoLisaSimpson-Regular.ttf')\n",
    "prop = fm.FontProperties(fname=fpath)\n",
    "fname = os.path.split(fpath)[1]\n",
    "\n",
    "\n",
    "\n",
    "# Estilos: ESTAS VARIABLES CONTIENEN ESTILOS\n",
    "estilo_dark=[(168, 168, 168), (0, 0, 0), (210, 210, 210),] \n",
    "# GRIS  ,  NEGRO , PLOMO\n",
    "estilo_blanco=[(0, 0, 0), (255, 255, 255), (255, 255, 255),] \n",
    "# NEGRO , BLANCO, BLANCO\n",
    "\n",
    "\n",
    "\n",
    "Estilos=[estilo_dark,estilo_blanco]\n",
    "\n",
    "# se tienen variables que contienen los colores del formato\n",
    "# estilo[0]= Titulos y letras \n",
    "# estilo[1] = Fondo principal\n",
    "# estilo[2] = Fondo imagen\n",
    "\n",
    "\n",
    "\n",
    "\n",
    "# colores: ESTA VARIABLE CONTIENE COLORES\n",
    "colores = [(141, 211, 199),(254, 255, 179),(31, 119, 180),] \n",
    "#amarillo, azul claro, azul fuerte,\n",
    "\n",
    "rgba(3,7,100,1)rgba(88,172,143,1)\n",
    "\n",
    "for i in range(len(estilo_dark)):\n",
    "    r, g, b = estilo_dark[i]\n",
    "    estilo_dark[i] = (r / 255., g / 255., b / 255.)\n",
    "\n",
    "for i in range(len(estilo_blanco)):\n",
    "    r, g, b = estilo_blanco[i]\n",
    "    estilo_blanco[i] = (r / 255., g / 255., b / 255.)\n",
    "\n",
    "\n",
    "fig, ax = plt.subplots()\n",
    "########\n",
    "ax = plt.gca()\n",
    "#titulo\n",
    "plt.title(r\"$\\bf{BITCOIN:\\ HISTORIAL\\ DEL\\ NÚMERO\\ DE\\ TX}$\" \"\\n\" r\"$\\it{Comparación\\ por\\ bloque\\ y\\ por\\ acumulado}$\",fontsize=10,color=Estilos[0][0],fontproperties=prop)\n",
    "\n",
    "\n",
    "#Color del fondo\n",
    "fig.patch.set_facecolor(colores[1])\n",
    "\n",
    "#fondo dentro la grafica\n",
    "plt.axes().patch.set_facecolor(colores[2])\n",
    "\n",
    "ax.set_yticks([],[],)\n",
    "ax.set_xticks([],[],)\n",
    "###cuadricula\n",
    "plt.grid(False, color=colores[2],axis= 'both')\n",
    "\n",
    "\n",
    "color: \n",
    "#colores de los números\n",
    "# ax.tick_params(axis='x')\n",
    "# ax.tick_params(axis='y', colors='gray')\n",
    "t=np.linspace(0,13,100)\n",
    "#xt = np.random.randn(100)\n",
    "xt=np.sin(t)\n",
    "plt.plot(t,xt,label=\"disperso\",color=colores[3])\n",
    "\n",
    "plt.show()\n",
    "#plt.savefig('test.png')"
   ]
  },
  {
   "cell_type": "code",
   "execution_count": null,
   "id": "6fce466a",
   "metadata": {},
   "outputs": [],
   "source": [
    "rgb = (0,0,0)"
   ]
  }
 ],
 "metadata": {
  "kernelspec": {
   "display_name": "Python 3 (ipykernel)",
   "language": "python",
   "name": "python3"
  },
  "language_info": {
   "codemirror_mode": {
    "name": "ipython",
    "version": 3
   },
   "file_extension": ".py",
   "mimetype": "text/x-python",
   "name": "python",
   "nbconvert_exporter": "python",
   "pygments_lexer": "ipython3",
   "version": "3.10.11"
  }
 },
 "nbformat": 4,
 "nbformat_minor": 5
}
