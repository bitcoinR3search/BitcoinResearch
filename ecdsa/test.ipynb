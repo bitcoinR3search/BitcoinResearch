{
 "cells": [
  {
   "attachments": {},
   "cell_type": "markdown",
   "metadata": {},
   "source": [
    "# Bitcoin criptografia con python\n",
    "\n",
    "## parte 1. Campos Finitos\n",
    "\n",
    "Los campos finitos nos sirven para representar un número infinito de números dentro de un conjunto cerrado y finito. Por ejemplo el reloj, tienes de 0-24 hrs para representar un día. Yo podría calcular que hora es pasadas las 49 horas.\n",
    "Serian las 01:00 (48 hrs son dos días, sobra una hora).\n",
    "\n",
    "Con 24 números puedo representar cualquiero otro número de horas. "
   ]
  },
  {
   "cell_type": "code",
   "execution_count": 1,
   "metadata": {},
   "outputs": [],
   "source": [
    "from unittest import TestCase\n",
    "\n",
    "\n",
    "#definiendo la clase de un campo finito\n",
    "class FieldElement:\n",
    "    def __init__(self, num, prime):\n",
    "        #esta clase crea un objeto FieldElement\n",
    "        #y verifica si un numero esta dentro del conjunto\n",
    "        if num >= prime or num < 0:\n",
    "            error = 'Num {} not in field range 0 to {}'.format(\n",
    "num, prime - 1)\n",
    "            raise ValueError(error)\n",
    "        self.num = num\n",
    "        self.prime = prime\n",
    "\n",
    "    def __repr__(self):\n",
    "        #la representacion del numero\n",
    "        return 'FieldElement_{}({})'.format(self.prime, self.num)\n",
    "\n",
    "    def __eq__(self, other):\n",
    "        #definimos la igualdad: mismo numero y mismo primo base\n",
    "        if other is None:\n",
    "            return False\n",
    "        return self.num == other.num and self.prime == other.prime\n",
    "    \n",
    "    def __add__(self, other):\n",
    "        #definimos la suma en campo finito\n",
    "        if self.prime != other.prime:\n",
    "            raise TypeError('Cannot add two numbers in different Fields')\n",
    "        num = (self.num + other.num) % self.prime\n",
    "        #calcula el numero y crea una nueva clase fieldelement\n",
    "        return self.__class__(num, self.prime)\n",
    "    \n",
    "    def __sub__(self, other):\n",
    "        #definimos la resta\n",
    "        if self.prime != other.prime:\n",
    "            raise TypeError('Cannot sub two numbers in different Fields')\n",
    "        num = (self.num - other.num) % self.prime\n",
    "        return self.__class__(num, self.prime)\n",
    "    \n",
    "    def __mul__(self,other):\n",
    "        #definimos la mult\n",
    "        if self.prime != other.prime:\n",
    "            raise TypeError('Cannot mul two numbers in different Fields')\n",
    "        num = (self.num * other.num) % self.prime\n",
    "        return self.__class__(num, self.prime)\n",
    "    \n",
    "    def __pow__(self,exponent):\n",
    "        #definimos la potencia\n",
    "        num = (self.num ** exponent) % self.prime\n",
    "        return self.__class__(num, self.prime)\n",
    "    \n",
    "    def __ne__(self, other: object) -> bool:\n",
    "        if other is None:\n",
    "            return False\n",
    "        return self.num != other.num or self.prime != other.prime\n",
    "    def __truediv__(self, other):\n",
    "        if self.prime != other.prime:\n",
    "            raise TypeError('Cannot divide two numbers in different Fields')\n",
    "        # self.num and other.num are the actual values\n",
    "        # self.prime is what we need to mod against\n",
    "        # use fermat's little theorem:\n",
    "        # self.num**(p-1) % p == 1\n",
    "        # this means:\n",
    "        # 1/n == pow(n, p-2, p)\n",
    "        num = (self.num * pow(other.num, self.prime - 2, self.prime)) % self.prime\n",
    "        # We return an element of the same class\n",
    "        return self.__class__(num, self.prime)\n",
    "\n",
    "    def __rmul__(self, coefficient):\n",
    "        num = (self.num * coefficient) % self.prime\n",
    "        return self.__class__(num=num, prime=self.prime)\n",
    "\n",
    "\n",
    "\n",
    "\n",
    "class FieldElementTest(TestCase):\n",
    "\n",
    "    def test_ne(self):\n",
    "        a = FieldElement(2, 31)\n",
    "        b = FieldElement(2, 31)\n",
    "        c = FieldElement(15, 31)\n",
    "        self.assertEqual(a, b)\n",
    "        self.assertTrue(a != c)\n",
    "        self.assertFalse(a != b)\n",
    "\n",
    "    def test_add(self):\n",
    "        a = FieldElement(2, 31)\n",
    "        b = FieldElement(15, 31)\n",
    "        self.assertEqual(a + b, FieldElement(17, 31))\n",
    "        a = FieldElement(17, 31)\n",
    "        b = FieldElement(21, 31)\n",
    "        self.assertEqual(a + b, FieldElement(7, 31))\n",
    "\n",
    "    def test_sub(self):\n",
    "        a = FieldElement(29, 31)\n",
    "        b = FieldElement(4, 31)\n",
    "        self.assertEqual(a - b, FieldElement(25, 31))\n",
    "        a = FieldElement(15, 31)\n",
    "        b = FieldElement(30, 31)\n",
    "        self.assertEqual(a - b, FieldElement(16, 31))\n",
    "\n",
    "    def test_mul(self):\n",
    "        a = FieldElement(24, 31)\n",
    "        b = FieldElement(19, 31)\n",
    "        self.assertEqual(a * b, FieldElement(22, 31))\n",
    "\n",
    "    def test_pow(self):\n",
    "        a = FieldElement(17, 31)\n",
    "        self.assertEqual(a**3, FieldElement(15, 31))\n",
    "        a = FieldElement(5, 31)\n",
    "        b = FieldElement(18, 31)\n",
    "        self.assertEqual(a**5 * b, FieldElement(16, 31))\n",
    "\n",
    "    "
   ]
  },
  {
   "cell_type": "code",
   "execution_count": 2,
   "metadata": {},
   "outputs": [
    {
     "name": "stderr",
     "output_type": "stream",
     "text": [
      ".....\n",
      "----------------------------------------------------------------------\n",
      "Ran 5 tests in 0.007s\n",
      "\n",
      "OK\n"
     ]
    }
   ],
   "source": [
    "#%%timeit\n",
    "import unittest\n",
    "\n",
    "# Definición de la clase FieldElement y la clase FieldElementTest\n",
    "\n",
    "# Crear instancia de TestLoader y cargar las pruebas desde FieldElementTest\n",
    "loader = unittest.TestLoader();\n",
    "tests = loader.loadTestsFromTestCase(FieldElementTest);\n",
    "\n",
    "# Crear una instancia de TestSuite y agregar las pruebas cargadas\n",
    "suite = unittest.TestSuite();\n",
    "suite.addTests(tests);\n",
    "\n",
    "# Ejecutar las pruebas y mostrar los resultados\n",
    "runner = unittest.TextTestRunner();\n",
    "result = runner.run(suite);\n"
   ]
  },
  {
   "attachments": {},
   "cell_type": "markdown",
   "metadata": {},
   "source": [
    "## Codeando Curvas Elípticas en Python\n",
    "\n",
    "Primer ejemplo del manejo de curvas elípticas\n"
   ]
  },
  {
   "cell_type": "code",
   "execution_count": 3,
   "metadata": {},
   "outputs": [],
   "source": [
    "from unittest import TestCase\n",
    "\n",
    "class Point:\n",
    "    def __init__(self, x, y, a, b):\n",
    "        self.a = a\n",
    "        self.b = b\n",
    "        self.x = x\n",
    "        self.y = y\n",
    "        if self.x is None and self.y is None:\n",
    "            return\n",
    "        if self.y**2 != self.x**3 + a * x + b:\n",
    "            raise ValueError('({}, {}) is not on the curve'.format(x, y))\n",
    "\n",
    "    def __repr__(self):\n",
    "        if self.x is None:\n",
    "            return 'Point(infinity)'\n",
    "        elif isinstance(self.x, FieldElement):\n",
    "            return 'Point({},{})_{}_{} FieldElement({})'.format(\n",
    "                self.x.num, self.y.num, self.a.num, self.b.num, self.x.prime)\n",
    "        else:\n",
    "            return 'Point({},{})_{}_{}'.format(self.x, self.y, self.a, self.b)\n",
    "\n",
    "    def __eq__(self, other):\n",
    "        return self.x == other.x and self.y == other.y \\\n",
    "            and self.a == other.a and self.b == other.b\n",
    "    \n",
    "    def __add__(self, other):\n",
    "        if self.a != other.a or self.b != other.b:\n",
    "            raise TypeError('Points {}, {} are not on the same curve'.format(self, other))\n",
    "        if self.x is None:\n",
    "            return other\n",
    "        if other.x is None:\n",
    "            return self\n",
    "        if self.x == other.x and self.y != other.y:\n",
    "            return self.__class__(None, None, self.a, self.b)\n",
    "        if self.x != other.x:\n",
    "            s = (other.y - self.y) / (other.x - self.x)\n",
    "            x = s**2 - self.x - other.x\n",
    "            y = s * (self.x - x) - self.y\n",
    "            return self.__class__(x, y, self.a, self.b)\n",
    "        if self == other and self.y == 0 * self.x:\n",
    "            return self.__class__(None, None, self.a, self.b)\n",
    "        if self == other:\n",
    "            s = (3 * self.x**2 + self.a) / (2 * self.y)\n",
    "            x = s**2 - 2 * self.x\n",
    "            y = s * (self.x - x) - self.y\n",
    "            return self.__class__(x, y, self.a, self.b)\n",
    "    \n",
    "    def __ne__(self, other):\n",
    "        return not (self == other)\n",
    "    \n",
    "    def __rmul__(self, coefficient):\n",
    "        coef = coefficient\n",
    "        current = self  # <1>\n",
    "        result = self.__class__(None, None, self.a, self.b)  # <2>\n",
    "        while coef:\n",
    "            if coef & 1:  # <3>\n",
    "                result += current\n",
    "            current += current  # <4>\n",
    "            coef >>= 1  # <5>\n",
    "        return result\n",
    "\n",
    "\n",
    "\n",
    "class PointTest(TestCase):\n",
    "\n",
    "    def test_ne(self):\n",
    "        a = Point(x=3, y=-7, a=5, b=7)\n",
    "        b = Point(x=18, y=77, a=5, b=7)\n",
    "        self.assertTrue(a != b)\n",
    "        self.assertFalse(a != a)\n",
    "\n",
    "    def test_on_curve(self):\n",
    "        with self.assertRaises(ValueError):\n",
    "            Point(x=-2, y=4, a=5, b=7)\n",
    "        # these should not raise an error\n",
    "        Point(x=3, y=-7, a=5, b=7)\n",
    "        Point(x=18, y=77, a=5, b=7)\n",
    "\n",
    "    def test_add0(self):\n",
    "        a = Point(x=None, y=None, a=5, b=7)\n",
    "        b = Point(x=2, y=5, a=5, b=7)\n",
    "        c = Point(x=2, y=-5, a=5, b=7)\n",
    "        self.assertEqual(a + b, b)\n",
    "        self.assertEqual(b + a, b)\n",
    "        self.assertEqual(b + c, a)\n",
    "\n",
    "    def test_add1(self):\n",
    "        a = Point(x=3, y=7, a=5, b=7)\n",
    "        b = Point(x=-1, y=-1, a=5, b=7)\n",
    "        self.assertEqual(a + b, Point(x=2, y=-5, a=5, b=7))\n",
    "\n",
    "    def test_add2(self):\n",
    "        a = Point(x=-1, y=1, a=5, b=7)\n",
    "        self.assertEqual(a + a, Point(x=18, y=-77, a=5, b=7))\n",
    "\n"
   ]
  },
  {
   "cell_type": "code",
   "execution_count": 4,
   "metadata": {},
   "outputs": [
    {
     "name": "stderr",
     "output_type": "stream",
     "text": [
      ".....\n",
      "----------------------------------------------------------------------\n",
      "Ran 5 tests in 0.007s\n",
      "\n",
      "OK\n"
     ]
    }
   ],
   "source": [
    "import unittest\n",
    "\n",
    "# Definición de la clase FieldElement y la clase FieldElementTest\n",
    "\n",
    "# Crear instancia de TestLoader y cargar las pruebas desde FieldElementTest\n",
    "loader = unittest.TestLoader();\n",
    "tests = loader.loadTestsFromTestCase(PointTest);\n",
    "\n",
    "# Crear una instancia de TestSuite y agregar las pruebas cargadas\n",
    "suite = unittest.TestSuite();\n",
    "suite.addTests(tests);\n",
    "\n",
    "# Ejecutar las pruebas y mostrar los resultados\n",
    "runner = unittest.TextTestRunner();\n",
    "result = runner.run(suite);\n"
   ]
  },
  {
   "attachments": {},
   "cell_type": "markdown",
   "metadata": {},
   "source": [
    "## Curvas Elípticas sobre campos Finitos\n"
   ]
  },
  {
   "cell_type": "code",
   "execution_count": 5,
   "metadata": {},
   "outputs": [
    {
     "name": "stdout",
     "output_type": "stream",
     "text": [
      "Point(192,105)_0_7 FieldElement(223)\n"
     ]
    }
   ],
   "source": [
    "a = FieldElement(num=0, prime=223)\n",
    "b = FieldElement(num=7, prime=223)\n",
    "x = FieldElement(num=192, prime=223)\n",
    "y = FieldElement(num=105, prime=223)\n",
    "p1 = Point(x, y, a, b)\n",
    "print(p1)\n",
    "#Point(192,105)_0_7 FieldElement(223)"
   ]
  },
  {
   "attachments": {},
   "cell_type": "markdown",
   "metadata": {},
   "source": [
    "Los campos finitos tienen un comportamiento impredecible a como conocemos que son gráficas de funciones. Veamos un ejemplo de como se ve el grafico de una linea recta y=ax+b en cooredenadas reales y en campo finito"
   ]
  },
  {
   "cell_type": "code",
   "execution_count": 6,
   "metadata": {},
   "outputs": [
    {
     "data": {
      "image/png": "[encoded data removed]",
      "text/plain": [
       "<Figure size 640x480 with 1 Axes>"
      ]
     },
     "metadata": {},
     "output_type": "display_data"
    }
   ],
   "source": [
    "import matplotlib.pyplot as plt\n",
    "import numpy as np\n",
    "\n",
    "# encontramos los puntos en la curva y^2=x^3+7\n",
    "points = [(xi,np.sqrt(xi**3 + 7)) for xi in np.linspace(-3, 4, 10000) if(xi**3+7)>=0]\n",
    "\n",
    "x, y = zip(*points)\n",
    "x = np.array(x)\n",
    "y = np.array(y)\n",
    "\n",
    "# Crear la gráfica\n",
    "plt.plot(x, y, color='blue')\n",
    "plt.plot(x, -1*y,color='blue')\n",
    "# Agregar etiquetas y título\n",
    "\n",
    "plt.title('Curva Elíptica '+r'$y^2=x^3+7$'+'\\n(x,y) $\\in$ Reales')\n",
    "plt.grid()\n",
    "\n",
    "# Ajustar límites de los ejes\n",
    "plt.xlim(-7,7)\n",
    "plt.ylim(-7,7)\n",
    "\n",
    "# Mostrar la gráfica\n",
    "\n",
    "plt.axhline(0, color='red', linewidth=0.5)\n",
    "plt.axvline(0, color='red', linewidth=0.5)\n",
    "\n",
    "plt.show()\n"
   ]
  },
  {
   "cell_type": "code",
   "execution_count": 7,
   "metadata": {},
   "outputs": [
    {
     "data": {
      "image/png": "[encoded data removed]",
      "text/plain": [
       "<Figure size 640x480 with 1 Axes>"
      ]
     },
     "metadata": {},
     "output_type": "display_data"
    }
   ],
   "source": [
    "import matplotlib.pyplot as plt\n",
    "\n",
    "p=199\n",
    "\n",
    "x=[]\n",
    "y=[]\n",
    "\n",
    "for a in range(200):\n",
    "    for b in range(200):\n",
    "        if (b**2) % p == (a**3 + 7) % p:\n",
    "            x.append(a%p)\n",
    "            y.append(b%p)\n",
    "      \n",
    "\n",
    "\n",
    "# # Crear la gráfica\n",
    "plt.scatter(x, y,s=5)\n",
    "plt.axhline(100, color='red', linewidth=0.25)\n",
    "plt.axvline(100, color='red', linewidth=0.25)\n",
    "plt.title('Curva Elíptica '+r'$y^2=x^3+7$'+'\\n(x,y) $\\in$ Campo finito p=199')\n",
    "plt.xlim(0,200)\n",
    "plt.ylim(0,200)\n",
    "\n",
    "\n",
    "plt.grid()"
   ]
  },
  {
   "cell_type": "code",
   "execution_count": 19,
   "metadata": {},
   "outputs": [
    {
     "name": "stdout",
     "output_type": "stream",
     "text": [
      "True\n"
     ]
    }
   ],
   "source": [
    "#testeamos el punto generador en la curva de Bitcoin\n",
    "gx = 0x79be667ef9dcbbac55a06295ce870b07029bfcdb2dce28d959f2815b16f81798\n",
    "gy = 0x483ada7726a3c4655da4fbfc0e1108a8fd17b448a68554199c47d08ffb10d4b8\n",
    "p = 2**256 - 2**32 - 977\n",
    "print(gy**2 % p == (gx**3 + 7) % p)"
   ]
  },
  {
   "cell_type": "code",
   "execution_count": 9,
   "metadata": {},
   "outputs": [
    {
     "name": "stdout",
     "output_type": "stream",
     "text": [
      "Point(infinity)\n"
     ]
    }
   ],
   "source": [
    "#testeamos el orden n en la curva\n",
    "\n",
    "gx = 0x79be667ef9dcbbac55a06295ce870b07029bfcdb2dce28d959f2815b16f81798\n",
    "gy = 0x483ada7726a3c4655da4fbfc0e1108a8fd17b448a68554199c47d08ffb10d4b8\n",
    "p = 2**256 - 2**32 - 977\n",
    "n = 0xfffffffffffffffffffffffffffffffebaaedce6af48a03bbfd25e8cd0364141\n",
    "x = FieldElement(gx, p)\n",
    "y = FieldElement(gy, p)\n",
    "seven = FieldElement(7, p)\n",
    "zero = FieldElement(0, p)\n",
    "G1 = Point(x, y, zero, seven)\n",
    "print((n-1)*G1+G1)"
   ]
  },
  {
   "cell_type": "code",
   "execution_count": 10,
   "metadata": {},
   "outputs": [],
   "source": [
    "P = 2**256 - 2**32 - 977\n",
    "\n",
    "class S256Field(FieldElement):\n",
    "    def __init__(self, num, prime=None):\n",
    "        super().__init__(num=num, prime=P)\n",
    "\n",
    "    def __repr__(self):\n",
    "        return '{:x}'.format(self.num).zfill(64)\n",
    "    \n",
    "A = 0\n",
    "B = 7\n",
    "N = 0xfffffffffffffffffffffffffffffffebaaedce6af48a03bbfd25e8cd0364141\n",
    "\n",
    "class S256Point(Point):\n",
    "    def __init__(self, x, y, a=None, b=None):\n",
    "        a, b = S256Field(A), S256Field(B)\n",
    "        if type(x) == int:\n",
    "            super().__init__(x=S256Field(x), y=S256Field(y), a=a, b=b)\n",
    "        else:\n",
    "            super().__init__(x=x, y=y, a=a, b=b)\n",
    "\n",
    "    def __rmul__(self, coefficient):\n",
    "        coef = coefficient % N\n",
    "        return super().__rmul__(coef)\n",
    "    \n",
    "    def __repr__(self):\n",
    "        if self.x is None:\n",
    "            return 'S256Point(infinity)'\n",
    "        else:\n",
    "            return 'S256Point({}, {})'.format(self.x, self.y)\n",
    "    \n",
    "    def verify(self, z, sig):\n",
    "        s_inv = pow(sig.s, N - 2, N)\n",
    "        u = z * s_inv % N\n",
    "        v = sig.r * s_inv % N\n",
    "        total = u * G + v * self\n",
    "        return total.x.num == sig.r\n",
    "    \n",
    "\n",
    "\n",
    "class PrivateKey:\n",
    "    def __init__(self, secret):\n",
    "        self.secret = secret\n",
    "        self.point = secret * G\n",
    "    def hex(self):\n",
    "        return '{:x}'.format(self.secret).zfill(64)"
   ]
  },
  {
   "cell_type": "code",
   "execution_count": 11,
   "metadata": {},
   "outputs": [
    {
     "data": {
      "text/plain": [
       "S256Point(79be667ef9dcbbac55a06295ce870b07029bfcdb2dce28d959f2815b16f81798, 483ada7726a3c4655da4fbfc0e1108a8fd17b448a68554199c47d08ffb10d4b8)"
      ]
     },
     "execution_count": 11,
     "metadata": {},
     "output_type": "execute_result"
    }
   ],
   "source": [
    "# verificamos que el punto Gx,Gy pertenece a la curva\n",
    "G = S256Point(0x79be667ef9dcbbac55a06295ce870b07029bfcdb2dce28d959f2815b16f81798,0x483ada7726a3c4655da4fbfc0e1108a8fd17b448a68554199c47d08ffb10d4b8)\n",
    "G"
   ]
  },
  {
   "cell_type": "code",
   "execution_count": 12,
   "metadata": {},
   "outputs": [
    {
     "name": "stdout",
     "output_type": "stream",
     "text": [
      "S256Point(infinity)\n"
     ]
    }
   ],
   "source": [
    "print(N*G)"
   ]
  },
  {
   "cell_type": "code",
   "execution_count": 13,
   "metadata": {},
   "outputs": [
    {
     "name": "stdout",
     "output_type": "stream",
     "text": [
      "True\n"
     ]
    }
   ],
   "source": [
    "#VERIFICANDO FIRMA\n",
    "\n",
    "z = 0xbc62d4b80d9e36da29c16c5d4d9f11731f36052c72401a76c23c0fb5a9b74423\n",
    "r = 0x37206a0610995c58074999cb9767b87af4c4978db68c06e8e6e81d282047a7c6\n",
    "s = 0x8ca63759c1157ebeaec0d03cecca119fc9a75bf8e6d0fa65c841c8e2738cdaec\n",
    "px = 0x04519fac3d910ca7e7138f7013706f619fa8f033e6ec6e09370ea38cee6a7574\n",
    "py = 0x82b51eab8c27c66e26c858a079bcdf4f1ada34cec420cafc7eac1a42216fb6c4\n",
    "point = S256Point(px, py)\n",
    "s_inv = pow(s, N-2, N)\n",
    "u = z * s_inv % N\n",
    "v = r * s_inv % N\n",
    "print((u*G + v*point).x.num == r)\n"
   ]
  },
  {
   "cell_type": "code",
   "execution_count": 14,
   "metadata": {},
   "outputs": [],
   "source": [
    "class Signature:\n",
    "    def __init__(self, r, s):\n",
    "        self.r = r\n",
    "        self.s = s\n",
    "    def __repr__(self):\n",
    "        return 'Signature({:x},{:x})'.format(self.r, self.s)\n",
    "\n",
    "\n"
   ]
  },
  {
   "cell_type": "code",
   "execution_count": 15,
   "metadata": {},
   "outputs": [
    {
     "name": "stdout",
     "output_type": "stream",
     "text": [
      "S256Point(028d003eab2e428d11983f3e97c3fa0addf3b42740df0d211795ffb3be2f6c52, 0ae987b9ec6ea159c78cb2a937ed89096fb218d9e7594f02b547526d8cd309e2)\n",
      "0x231c6f3d980a6b0fb7152f85cee7eb52bf92433d9919b9c5218cb08e79cce78\n",
      "0x2b698a0f0a4041b77e63488ad48c23e8e8838dd1fb7520408b121697b782ef22\n",
      "0xbb14e602ef9e3f872e25fad328466b34e6734b7a0fcd58b1eb635447ffae8cb9\n"
     ]
    }
   ],
   "source": [
    "from hashlib import sha256\n",
    "\n",
    "def hash256(s):\n",
    "    '''two rounds of sha256'''\n",
    "    return sha256(sha256(s).digest()).digest()\n",
    "\n",
    "\n",
    "z = int.from_bytes(hash256(b'my message'), 'big')\n",
    "e = int.from_bytes(hash256(b'my secret'), 'big')\n",
    "k = 1234567890\n",
    "r = (k*G).x.num\n",
    "k_inv = pow(k, N-2, N)\n",
    "s = (z+r*e) * k_inv % N\n",
    "point = e*G\n",
    "print(point)\n",
    "print(hex(z))\n",
    "print(hex(r))\n",
    "print(hex(s))"
   ]
  },
  {
   "cell_type": "code",
   "execution_count": 17,
   "metadata": {},
   "outputs": [],
   "source": [
    "A = 4*G\n"
   ]
  },
  {
   "cell_type": "code",
   "execution_count": 18,
   "metadata": {},
   "outputs": [
    {
     "name": "stdout",
     "output_type": "stream",
     "text": [
      "103388573995635080359749164254216598308788835304023601477803095234286494993683\n"
     ]
    }
   ],
   "source": [
    "print(A.x.num)"
   ]
  }
 ],
 "metadata": {
  "kernelspec": {
   "display_name": "env",
   "language": "python",
   "name": "python3"
  },
  "language_info": {
   "codemirror_mode": {
    "name": "ipython",
    "version": 3
   },
   "file_extension": ".py",
   "mimetype": "text/x-python",
   "name": "python",
   "nbconvert_exporter": "python",
   "pygments_lexer": "ipython3",
   "version": "3.10.11"
  },
  "orig_nbformat": 4
 },
 "nbformat": 4,
 "nbformat_minor": 2
}
